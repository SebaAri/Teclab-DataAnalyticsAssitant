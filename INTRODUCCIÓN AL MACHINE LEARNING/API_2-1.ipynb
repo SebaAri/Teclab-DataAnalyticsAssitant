{
  "nbformat": 4,
  "nbformat_minor": 0,
  "metadata": {
    "colab": {
      "provenance": []
    },
    "kernelspec": {
      "name": "python3",
      "display_name": "Python 3"
    },
    "language_info": {
      "name": "python"
    }
  },
  "cells": [
    {
      "cell_type": "code",
      "source": [
        "# Importamos las librerías necesarias.\n",
        "import pandas as pd\n",
        "import numpy as np\n",
        "from sklearn import metrics\n",
        "from sklearn.model_selection import train_test_split\n",
        "from sklearn.linear_model import LogisticRegression\n",
        "import matplotlib.pyplot as plt\n",
        "import seaborn as sns\n",
        "%matplotlib inline"
      ],
      "metadata": {
        "id": "aQuxCBBOV4x6"
      },
      "execution_count": 32,
      "outputs": []
    },
    {
      "cell_type": "code",
      "source": [
        "# Leemos nuestras bases de datos.\n",
        "train = pd.read_csv(\"train.csv\")\n",
        "test = pd.read_csv(\"test.csv\")"
      ],
      "metadata": {
        "id": "KNoadzWBb38r"
      },
      "execution_count": 33,
      "outputs": []
    },
    {
      "cell_type": "code",
      "source": [
        "# a) Describir brevemente la cantidad de valores faltantes para cada una de las variables de la base de datos.\n",
        "\n",
        "train.isna().sum()"
      ],
      "metadata": {
        "id": "ZKKl47gYffe7",
        "colab": {
          "base_uri": "https://localhost:8080/"
        },
        "outputId": "2756d73e-3348-4a58-ae0c-19cc1aa040ac"
      },
      "execution_count": 34,
      "outputs": [
        {
          "output_type": "execute_result",
          "data": {
            "text/plain": [
              "PassengerId      0\n",
              "Survived         0\n",
              "Pclass           0\n",
              "Name             0\n",
              "Sex              0\n",
              "Age            177\n",
              "SibSp            0\n",
              "Parch            0\n",
              "Ticket           0\n",
              "Fare             0\n",
              "Cabin          687\n",
              "Embarked         2\n",
              "dtype: int64"
            ]
          },
          "metadata": {},
          "execution_count": 34
        }
      ]
    },
    {
      "cell_type": "code",
      "source": [
        "test.isna().sum()"
      ],
      "metadata": {
        "id": "aH7rYfSrflJb",
        "colab": {
          "base_uri": "https://localhost:8080/"
        },
        "outputId": "8f43ea20-5aa5-472f-f0dc-43fbbe462dd8"
      },
      "execution_count": 35,
      "outputs": [
        {
          "output_type": "execute_result",
          "data": {
            "text/plain": [
              "PassengerId      0\n",
              "Pclass           0\n",
              "Name             0\n",
              "Sex              0\n",
              "Age             86\n",
              "SibSp            0\n",
              "Parch            0\n",
              "Ticket           0\n",
              "Fare             1\n",
              "Cabin          327\n",
              "Embarked         0\n",
              "dtype: int64"
            ]
          },
          "metadata": {},
          "execution_count": 35
        }
      ]
    },
    {
      "cell_type": "code",
      "source": [
        "# b) Completar aquellas variables que se encuentran faltantes para las bases de train (“Age”,”fare”, “Cabin”) y test ( “Age”, “Cabin”, “embarked”).\n",
        "\n",
        "# Primero trabajamos con la base de datos train.\n",
        "# Calculamos el promedio de la columna \"Age\".\n",
        "train1 = train.dropna()\n",
        "mean = train1[\"Age\"].mean()\n",
        "mean\n"
      ],
      "metadata": {
        "id": "cTOscD1lcR5b",
        "colab": {
          "base_uri": "https://localhost:8080/"
        },
        "outputId": "f60496d5-1ef0-46e9-f565-4d8ba95fc154"
      },
      "execution_count": 36,
      "outputs": [
        {
          "output_type": "execute_result",
          "data": {
            "text/plain": [
              "35.6744262295082"
            ]
          },
          "metadata": {},
          "execution_count": 36
        }
      ]
    },
    {
      "cell_type": "code",
      "source": [
        "# Completamos los valores faltantes de la columna \"Age\" con el promedio.\n",
        "train[\"Age\"] = train[\"Age\"].fillna(mean)\n"
      ],
      "metadata": {
        "id": "gzkq4rqYzlvj"
      },
      "execution_count": 37,
      "outputs": []
    },
    {
      "cell_type": "code",
      "source": [
        "# Mostramos que no hay valores nulos para la columna \"Age\".\n",
        "train.isna().sum()"
      ],
      "metadata": {
        "colab": {
          "base_uri": "https://localhost:8080/"
        },
        "id": "WQFY2yha0Kp0",
        "outputId": "43f62061-3a9b-4533-83db-c16c84779e76"
      },
      "execution_count": 38,
      "outputs": [
        {
          "output_type": "execute_result",
          "data": {
            "text/plain": [
              "PassengerId      0\n",
              "Survived         0\n",
              "Pclass           0\n",
              "Name             0\n",
              "Sex              0\n",
              "Age              0\n",
              "SibSp            0\n",
              "Parch            0\n",
              "Ticket           0\n",
              "Fare             0\n",
              "Cabin          687\n",
              "Embarked         2\n",
              "dtype: int64"
            ]
          },
          "metadata": {},
          "execution_count": 38
        }
      ]
    },
    {
      "cell_type": "code",
      "source": [
        "# Tomamos la estrategia de poner Unknown a los valores nulos de \"Cabin\" debido a que tiene una gran cantidad de faltantes.\n",
        "train['Cabin'].fillna('Unknown', inplace=True)"
      ],
      "metadata": {
        "id": "WL4ZEhlR_-tM"
      },
      "execution_count": 39,
      "outputs": []
    },
    {
      "cell_type": "code",
      "source": [
        "# Mostramos que no hay valores nulos para la columna \"Cabin\".\n",
        "train.isna().sum()"
      ],
      "metadata": {
        "colab": {
          "base_uri": "https://localhost:8080/"
        },
        "id": "P_f_7o5iAEmc",
        "outputId": "cdca0dfe-8263-4204-9b9d-a59805c69de3"
      },
      "execution_count": 40,
      "outputs": [
        {
          "output_type": "execute_result",
          "data": {
            "text/plain": [
              "PassengerId    0\n",
              "Survived       0\n",
              "Pclass         0\n",
              "Name           0\n",
              "Sex            0\n",
              "Age            0\n",
              "SibSp          0\n",
              "Parch          0\n",
              "Ticket         0\n",
              "Fare           0\n",
              "Cabin          0\n",
              "Embarked       2\n",
              "dtype: int64"
            ]
          },
          "metadata": {},
          "execution_count": 40
        }
      ]
    },
    {
      "cell_type": "markdown",
      "source": [
        "Para la base de datos train, la columna \"Fare\" no tiene valores nulos."
      ],
      "metadata": {
        "id": "lvhom9o1C70s"
      }
    },
    {
      "cell_type": "code",
      "source": [
        "# Ahora debemos imputar la columna \"Embarked\"\n",
        "train['Embarked'].fillna('Unknown', inplace=True)"
      ],
      "metadata": {
        "id": "3-6fjwyPKSe9"
      },
      "execution_count": 41,
      "outputs": []
    },
    {
      "cell_type": "code",
      "source": [
        "# Mostramos que no hay valores nulos.\n",
        "train.isna().sum()"
      ],
      "metadata": {
        "colab": {
          "base_uri": "https://localhost:8080/"
        },
        "id": "DZ__5mq1KnSl",
        "outputId": "6d94ea48-ac51-4f31-ec47-6678f2985976"
      },
      "execution_count": 42,
      "outputs": [
        {
          "output_type": "execute_result",
          "data": {
            "text/plain": [
              "PassengerId    0\n",
              "Survived       0\n",
              "Pclass         0\n",
              "Name           0\n",
              "Sex            0\n",
              "Age            0\n",
              "SibSp          0\n",
              "Parch          0\n",
              "Ticket         0\n",
              "Fare           0\n",
              "Cabin          0\n",
              "Embarked       0\n",
              "dtype: int64"
            ]
          },
          "metadata": {},
          "execution_count": 42
        }
      ]
    },
    {
      "cell_type": "code",
      "source": [
        "# Ahora trabajamos con la base de datos test\n",
        "# Calculamos el promedio de la columna \"Age\".\n",
        "test1 = test.dropna()\n",
        "mean = test1[\"Age\"].mean()\n",
        "mean"
      ],
      "metadata": {
        "colab": {
          "base_uri": "https://localhost:8080/"
        },
        "id": "90-3IXxjC-S8",
        "outputId": "1a68660f-2a86-4721-ea51-9c138cf01ed3"
      },
      "execution_count": 43,
      "outputs": [
        {
          "output_type": "execute_result",
          "data": {
            "text/plain": [
              "39.247126436781606"
            ]
          },
          "metadata": {},
          "execution_count": 43
        }
      ]
    },
    {
      "cell_type": "code",
      "source": [
        "# Completamos los valores faltantes de la columna \"Age\" con el promedio.\n",
        "test[\"Age\"] = test[\"Age\"].fillna(mean)"
      ],
      "metadata": {
        "id": "DNvinGv8DmCe"
      },
      "execution_count": 44,
      "outputs": []
    },
    {
      "cell_type": "code",
      "source": [
        "# Mostramos que no hay valores nulos para la columna \"Age\".\n",
        "test.isna().sum()"
      ],
      "metadata": {
        "colab": {
          "base_uri": "https://localhost:8080/"
        },
        "id": "2uc1vqkcDyId",
        "outputId": "1d66ad6b-608c-498d-b246-4b2a409d0c45"
      },
      "execution_count": 45,
      "outputs": [
        {
          "output_type": "execute_result",
          "data": {
            "text/plain": [
              "PassengerId      0\n",
              "Pclass           0\n",
              "Name             0\n",
              "Sex              0\n",
              "Age              0\n",
              "SibSp            0\n",
              "Parch            0\n",
              "Ticket           0\n",
              "Fare             1\n",
              "Cabin          327\n",
              "Embarked         0\n",
              "dtype: int64"
            ]
          },
          "metadata": {},
          "execution_count": 45
        }
      ]
    },
    {
      "cell_type": "code",
      "source": [
        "# Tomamos la estrategia de poner Unknown a los valores nulos de \"Cabin\" debido a que tiene una gran cantidad de faltantes.\n",
        "test['Cabin'].fillna('Unknown', inplace=True)"
      ],
      "metadata": {
        "id": "CsCfbmq0D698"
      },
      "execution_count": 46,
      "outputs": []
    },
    {
      "cell_type": "code",
      "source": [
        "# Mostramos que no hay valores nulos para la columna \"Cabin\".\n",
        "test.isna().sum()"
      ],
      "metadata": {
        "colab": {
          "base_uri": "https://localhost:8080/"
        },
        "id": "aQhVgLqOFHcc",
        "outputId": "8238aca3-ff08-4124-fffc-e2fc48d907a1"
      },
      "execution_count": 47,
      "outputs": [
        {
          "output_type": "execute_result",
          "data": {
            "text/plain": [
              "PassengerId    0\n",
              "Pclass         0\n",
              "Name           0\n",
              "Sex            0\n",
              "Age            0\n",
              "SibSp          0\n",
              "Parch          0\n",
              "Ticket         0\n",
              "Fare           1\n",
              "Cabin          0\n",
              "Embarked       0\n",
              "dtype: int64"
            ]
          },
          "metadata": {},
          "execution_count": 47
        }
      ]
    },
    {
      "cell_type": "code",
      "source": [
        "# Ahora imputamos sobre la columna \"Fare\"\n",
        "# Calculamos el promedio de la columna \"Fare\".\n",
        "test2 = test.dropna()\n",
        "mean = test2[\"Fare\"].mean()\n",
        "mean"
      ],
      "metadata": {
        "colab": {
          "base_uri": "https://localhost:8080/"
        },
        "id": "HgvMtUXpK-1d",
        "outputId": "a8e30a4e-401f-42b7-f8ae-98980fc77442"
      },
      "execution_count": 48,
      "outputs": [
        {
          "output_type": "execute_result",
          "data": {
            "text/plain": [
              "35.627188489208635"
            ]
          },
          "metadata": {},
          "execution_count": 48
        }
      ]
    },
    {
      "cell_type": "code",
      "source": [
        "# Completamos los valores faltantes de la columna \"Fare\" con el promedio.\n",
        "test[\"Fare\"] = test[\"Fare\"].fillna(mean)"
      ],
      "metadata": {
        "id": "wfYqWqDhLQ7V"
      },
      "execution_count": 49,
      "outputs": []
    },
    {
      "cell_type": "code",
      "source": [
        "# Mostramos que no hay valores nulos.\n",
        "test.isna().sum()"
      ],
      "metadata": {
        "colab": {
          "base_uri": "https://localhost:8080/"
        },
        "id": "0jtwP0XCLkBW",
        "outputId": "18e218a5-138f-4937-cd07-5f0ad5c4f0a4"
      },
      "execution_count": 50,
      "outputs": [
        {
          "output_type": "execute_result",
          "data": {
            "text/plain": [
              "PassengerId    0\n",
              "Pclass         0\n",
              "Name           0\n",
              "Sex            0\n",
              "Age            0\n",
              "SibSp          0\n",
              "Parch          0\n",
              "Ticket         0\n",
              "Fare           0\n",
              "Cabin          0\n",
              "Embarked       0\n",
              "dtype: int64"
            ]
          },
          "metadata": {},
          "execution_count": 50
        }
      ]
    },
    {
      "cell_type": "markdown",
      "source": [
        "Para la base de datos test, la columna \"Embarked\" no tiene valores nulos.\n",
        "\n",
        "\n",
        "---\n",
        "\n"
      ],
      "metadata": {
        "id": "R4Jp8PK9Edt0"
      }
    },
    {
      "cell_type": "code",
      "source": [
        "# Mostramos la cantidad de filas y columnas respectivamente tiene la base de datos train.\n",
        "train.shape\n"
      ],
      "metadata": {
        "colab": {
          "base_uri": "https://localhost:8080/"
        },
        "id": "GRDVpW3ZFSpF",
        "outputId": "c82dc1de-c025-4e92-c0dd-19a78004f651"
      },
      "execution_count": 51,
      "outputs": [
        {
          "output_type": "execute_result",
          "data": {
            "text/plain": [
              "(891, 12)"
            ]
          },
          "metadata": {},
          "execution_count": 51
        }
      ]
    },
    {
      "cell_type": "code",
      "source": [
        "# Mostramos la cantidad de filas y columnas respectivamente tiene la base de datos test.\n",
        "test.shape"
      ],
      "metadata": {
        "colab": {
          "base_uri": "https://localhost:8080/"
        },
        "id": "uau8tAySAKl9",
        "outputId": "2f50bc5f-723d-4bf1-a7e3-4bdd5434796a"
      },
      "execution_count": 52,
      "outputs": [
        {
          "output_type": "execute_result",
          "data": {
            "text/plain": [
              "(418, 11)"
            ]
          },
          "metadata": {},
          "execution_count": 52
        }
      ]
    },
    {
      "cell_type": "code",
      "source": [
        "# c) Ajustar el primer modelo de regresión logística.\n",
        "\n",
        "# Definimos las características (X) y la variable objetivo (y) para el conjunto de entrenamiento.\n",
        "feature_cols = [\"Age\", \"Fare\", \"Pclass\", \"Sex\", \"Embarked\", \"SibSp\", \"Parch\"]\n",
        "x = train[feature_cols]\n",
        "y = train.Survived\n",
        "\n",
        "# Dividimos en entrenamiento y validación.\n",
        "X_train, X_test, y_train, y_test = train_test_split(x,y,test_size=0.25, random_state=0)\n",
        "\n",
        "# Aseguramos que todas las categorías estén presentes en ambos conjuntos de datos antes de la codificación one-hot.\n",
        "# Lista de columnas a codificar one-hot.\n",
        "columnas_categoricas = [\"Age\", \"Fare\", \"Pclass\", \"Sex\", \"Embarked\", \"SibSp\", \"Parch\"]\n",
        "\n",
        "# Aplicar la codificación one-hot en múltiples columnas.\n",
        "X_train_encoded = pd.get_dummies(X_train, columns=columnas_categoricas)\n",
        "X_test_encoded = pd.get_dummies(X_test, columns=columnas_categoricas)\n",
        "\n",
        "# Aseguramos que las columnas en X_test coincidan con las columnas en X_train después de la codificación one-hot.\n",
        "X_test_encoded = X_test_encoded.reindex(columns=X_train_encoded.columns, fill_value=0)\n",
        "\n",
        "logreg = LogisticRegression()\n",
        "logreg.fit(X_train_encoded, y_train)\n",
        "y_pred = logreg.predict(X_test_encoded)\n"
      ],
      "metadata": {
        "id": "ZHpB9YRaumvD"
      },
      "execution_count": 53,
      "outputs": []
    },
    {
      "cell_type": "code",
      "source": [
        "# Revisamos qué valores nos entrega la variable de salida predicha en test.\n",
        "y_pred"
      ],
      "metadata": {
        "colab": {
          "base_uri": "https://localhost:8080/"
        },
        "id": "LfUGoiXf0b4o",
        "outputId": "5fda4a59-3e45-44ca-dddf-dc27a233bb06"
      },
      "execution_count": 54,
      "outputs": [
        {
          "output_type": "execute_result",
          "data": {
            "text/plain": [
              "array([0, 0, 0, 1, 1, 0, 1, 1, 0, 1, 0, 1, 0, 1, 1, 1, 0, 1, 0, 0, 0, 1,\n",
              "       0, 0, 1, 1, 0, 1, 1, 0, 0, 1, 0, 0, 0, 1, 0, 0, 0, 0, 0, 0, 0, 0,\n",
              "       1, 0, 0, 1, 0, 1, 0, 0, 1, 0, 0, 0, 0, 0, 0, 0, 0, 0, 1, 0, 1, 0,\n",
              "       1, 0, 1, 1, 1, 0, 0, 0, 0, 0, 0, 0, 0, 0, 0, 0, 1, 0, 0, 1, 1, 1,\n",
              "       1, 0, 0, 0, 1, 1, 0, 0, 1, 0, 0, 1, 0, 0, 0, 0, 1, 1, 1, 0, 0, 1,\n",
              "       0, 1, 0, 1, 1, 1, 1, 1, 0, 1, 0, 0, 0, 0, 0, 0, 0, 0, 0, 0, 1, 0,\n",
              "       0, 1, 0, 0, 0, 1, 0, 0, 0, 1, 0, 1, 1, 1, 0, 1, 1, 0, 0, 1, 0, 0,\n",
              "       1, 0, 1, 0, 1, 1, 0, 0, 1, 0, 0, 0, 0, 0, 0, 0, 0, 1, 0, 0, 1, 0,\n",
              "       1, 0, 0, 1, 0, 1, 0, 0, 0, 0, 1, 0, 0, 1, 1, 0, 1, 1, 0, 0, 0, 1,\n",
              "       0, 0, 0, 1, 0, 1, 0, 0, 1, 0, 1, 0, 0, 0, 0, 1, 0, 0, 0, 0, 1, 1,\n",
              "       0, 1, 1])"
            ]
          },
          "metadata": {},
          "execution_count": 54
        }
      ]
    },
    {
      "cell_type": "code",
      "source": [
        "# d) Entrenamos y determinamos el nivel de accuracy del primer modelo.\n",
        "\n",
        "# Graficamos la predicción con una matriz de confusión.\n",
        "cnf_matrix = metrics.confusion_matrix(y_test, y_pred)\n",
        "\n",
        "class_names = [0,1]\n",
        "fig,ax = plt.subplots()\n",
        "ticks_marks = np.arange(len(class_names))\n",
        "plt.xticks(ticks_marks, class_names)\n",
        "plt.yticks(ticks_marks, class_names)\n",
        "\n",
        "sns.heatmap(pd.DataFrame(cnf_matrix), annot = True, cmap= \"Blues_r\", fmt=\"g\")\n",
        "plt.tight_layout()\n",
        "plt.title(\"Matriz de confusión\", y = 1.1)\n",
        "plt.ylabel(\"Etiqueta actual\")\n",
        "plt.xlabel(\"Etiqueta de predicción\")"
      ],
      "metadata": {
        "colab": {
          "base_uri": "https://localhost:8080/",
          "height": 589
        },
        "id": "-7J8ZI5F0uH9",
        "outputId": "4b2ac812-e7d0-4c48-9112-959fc4a006e9"
      },
      "execution_count": 55,
      "outputs": [
        {
          "output_type": "execute_result",
          "data": {
            "text/plain": [
              "Text(0.5, 23.52222222222222, 'Etiqueta de predicción')"
            ]
          },
          "metadata": {},
          "execution_count": 55
        },
        {
          "output_type": "display_data",
          "data": {
            "text/plain": [
              "<Figure size 640x480 with 2 Axes>"
            ],
            "image/png": "[encoded data removed]"
          },
          "metadata": {}
        }
      ]
    },
    {
      "cell_type": "code",
      "source": [
        "# Determinamos el nivel de Accuracy.\n",
        "print(\"Accuracy\", metrics.accuracy_score(y_test, y_pred))"
      ],
      "metadata": {
        "colab": {
          "base_uri": "https://localhost:8080/"
        },
        "id": "1g7Zg5dt4kAo",
        "outputId": "28a51c56-103e-4951-8494-c0768899f770"
      },
      "execution_count": 56,
      "outputs": [
        {
          "output_type": "stream",
          "name": "stdout",
          "text": [
            "Accuracy 0.8026905829596412\n"
          ]
        }
      ]
    },
    {
      "cell_type": "markdown",
      "source": [
        "Tenemos un 80% de elementos clasificados correctamente."
      ],
      "metadata": {
        "id": "2hnL2d9O6OwW"
      }
    }
  ]
}