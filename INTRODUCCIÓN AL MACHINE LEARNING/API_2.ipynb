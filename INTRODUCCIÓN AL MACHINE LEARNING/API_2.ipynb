{
  "nbformat": 4,
  "nbformat_minor": 0,
  "metadata": {
    "colab": {
      "provenance": []
    },
    "kernelspec": {
      "name": "python3",
      "display_name": "Python 3"
    },
    "language_info": {
      "name": "python"
    }
  },
  "cells": [
    {
      "cell_type": "code",
      "source": [
        "# Importamos las librerías necesarias.\n",
        "import pandas as pd\n",
        "import numpy as np\n",
        "from sklearn import metrics\n",
        "from sklearn.model_selection import train_test_split\n",
        "from sklearn.linear_model import LogisticRegression\n",
        "import matplotlib.pyplot as plt\n",
        "import seaborn as sns\n",
        "%matplotlib inline"
      ],
      "metadata": {
        "id": "aQuxCBBOV4x6"
      },
      "execution_count": 103,
      "outputs": []
    },
    {
      "cell_type": "code",
      "source": [
        "# Leemos nuestras bases de datos.\n",
        "train = pd.read_csv(\"train.csv\")\n",
        "test = pd.read_csv(\"test.csv\")"
      ],
      "metadata": {
        "id": "KNoadzWBb38r"
      },
      "execution_count": 104,
      "outputs": []
    },
    {
      "cell_type": "code",
      "source": [
        "# a) Describir brevemente la cantidad de valores faltantes para cada una de las variables de la base de datos.\n",
        "\n",
        "train.isna().sum()"
      ],
      "metadata": {
        "id": "ZKKl47gYffe7",
        "colab": {
          "base_uri": "https://localhost:8080/"
        },
        "outputId": "4da591cf-4ef2-44af-ccef-a28cd3707501"
      },
      "execution_count": 105,
      "outputs": [
        {
          "output_type": "execute_result",
          "data": {
            "text/plain": [
              "PassengerId      0\n",
              "Survived         0\n",
              "Pclass           0\n",
              "Name             0\n",
              "Sex              0\n",
              "Age            177\n",
              "SibSp            0\n",
              "Parch            0\n",
              "Ticket           0\n",
              "Fare             0\n",
              "Cabin          687\n",
              "Embarked         2\n",
              "dtype: int64"
            ]
          },
          "metadata": {},
          "execution_count": 105
        }
      ]
    },
    {
      "cell_type": "code",
      "source": [
        "test.isna().sum()"
      ],
      "metadata": {
        "id": "aH7rYfSrflJb",
        "colab": {
          "base_uri": "https://localhost:8080/"
        },
        "outputId": "ad0a36d2-27ef-4fc6-a76a-af3e125eacb7"
      },
      "execution_count": 106,
      "outputs": [
        {
          "output_type": "execute_result",
          "data": {
            "text/plain": [
              "PassengerId      0\n",
              "Pclass           0\n",
              "Name             0\n",
              "Sex              0\n",
              "Age             86\n",
              "SibSp            0\n",
              "Parch            0\n",
              "Ticket           0\n",
              "Fare             1\n",
              "Cabin          327\n",
              "Embarked         0\n",
              "dtype: int64"
            ]
          },
          "metadata": {},
          "execution_count": 106
        }
      ]
    },
    {
      "cell_type": "code",
      "source": [
        "# b) Completar aquellas variables que se encuentran faltantes para las bases de train (“Age”,”fare”, “Cabin”) y test ( “Age”, “Cabin”, “embarked”).\n",
        "\n",
        "# Primero trabajamos con la base de datos train.\n",
        "# Calculamos el promedio de la columna \"Age\".\n",
        "train1 = train.dropna()\n",
        "mean = train1[\"Age\"].mean()\n",
        "mean\n"
      ],
      "metadata": {
        "id": "cTOscD1lcR5b",
        "colab": {
          "base_uri": "https://localhost:8080/"
        },
        "outputId": "09f873b7-ace7-4cff-fb57-49aabcae60e8"
      },
      "execution_count": 107,
      "outputs": [
        {
          "output_type": "execute_result",
          "data": {
            "text/plain": [
              "35.6744262295082"
            ]
          },
          "metadata": {},
          "execution_count": 107
        }
      ]
    },
    {
      "cell_type": "code",
      "source": [
        "# Completamos los valores faltantes de la columna \"Age\" con el promedio.\n",
        "train[\"Age\"] = train[\"Age\"].fillna(mean)\n"
      ],
      "metadata": {
        "id": "gzkq4rqYzlvj"
      },
      "execution_count": 108,
      "outputs": []
    },
    {
      "cell_type": "code",
      "source": [
        "# Mostramos que no hay valores nulos para la columna \"Age\".\n",
        "train.isna().sum()"
      ],
      "metadata": {
        "colab": {
          "base_uri": "https://localhost:8080/"
        },
        "id": "WQFY2yha0Kp0",
        "outputId": "123d4bcc-41eb-44e0-a27e-71511f0d67d3"
      },
      "execution_count": 109,
      "outputs": [
        {
          "output_type": "execute_result",
          "data": {
            "text/plain": [
              "PassengerId      0\n",
              "Survived         0\n",
              "Pclass           0\n",
              "Name             0\n",
              "Sex              0\n",
              "Age              0\n",
              "SibSp            0\n",
              "Parch            0\n",
              "Ticket           0\n",
              "Fare             0\n",
              "Cabin          687\n",
              "Embarked         2\n",
              "dtype: int64"
            ]
          },
          "metadata": {},
          "execution_count": 109
        }
      ]
    },
    {
      "cell_type": "code",
      "source": [
        "# Tomamos la estrategia de poner Unknown a los valores nulos de \"Cabin\" debido a que tiene una gran cantidad de faltantes.\n",
        "train['Cabin'].fillna('Unknown', inplace=True)"
      ],
      "metadata": {
        "id": "WL4ZEhlR_-tM"
      },
      "execution_count": 110,
      "outputs": []
    },
    {
      "cell_type": "code",
      "source": [
        "# Mostramos que no hay valores nulos para la columna \"Cabin\".\n",
        "train.isna().sum()"
      ],
      "metadata": {
        "colab": {
          "base_uri": "https://localhost:8080/"
        },
        "id": "P_f_7o5iAEmc",
        "outputId": "6853c9a5-4bf1-4f99-9cd9-b8b3c7fc2c64"
      },
      "execution_count": 111,
      "outputs": [
        {
          "output_type": "execute_result",
          "data": {
            "text/plain": [
              "PassengerId    0\n",
              "Survived       0\n",
              "Pclass         0\n",
              "Name           0\n",
              "Sex            0\n",
              "Age            0\n",
              "SibSp          0\n",
              "Parch          0\n",
              "Ticket         0\n",
              "Fare           0\n",
              "Cabin          0\n",
              "Embarked       2\n",
              "dtype: int64"
            ]
          },
          "metadata": {},
          "execution_count": 111
        }
      ]
    },
    {
      "cell_type": "markdown",
      "source": [
        "Para la base de datos train, la columna \"Fare\" no tiene valores nulos."
      ],
      "metadata": {
        "id": "lvhom9o1C70s"
      }
    },
    {
      "cell_type": "code",
      "source": [
        "# Ahora debemos imputar la columna \"Embarked\"\n",
        "train['Embarked'].fillna('Unknown', inplace=True)"
      ],
      "metadata": {
        "id": "3-6fjwyPKSe9"
      },
      "execution_count": 112,
      "outputs": []
    },
    {
      "cell_type": "code",
      "source": [
        "# Mostramos que no hay valores nulos.\n",
        "train.isna().sum()"
      ],
      "metadata": {
        "colab": {
          "base_uri": "https://localhost:8080/"
        },
        "id": "DZ__5mq1KnSl",
        "outputId": "6f9ad86a-76fc-4c2f-a8ca-0f6e44751632"
      },
      "execution_count": 113,
      "outputs": [
        {
          "output_type": "execute_result",
          "data": {
            "text/plain": [
              "PassengerId    0\n",
              "Survived       0\n",
              "Pclass         0\n",
              "Name           0\n",
              "Sex            0\n",
              "Age            0\n",
              "SibSp          0\n",
              "Parch          0\n",
              "Ticket         0\n",
              "Fare           0\n",
              "Cabin          0\n",
              "Embarked       0\n",
              "dtype: int64"
            ]
          },
          "metadata": {},
          "execution_count": 113
        }
      ]
    },
    {
      "cell_type": "code",
      "source": [
        "# Ahora trabajamos con la base de datos test\n",
        "# Calculamos el promedio de la columna \"Age\".\n",
        "test1 = test.dropna()\n",
        "mean = test1[\"Age\"].mean()\n",
        "mean"
      ],
      "metadata": {
        "colab": {
          "base_uri": "https://localhost:8080/"
        },
        "id": "90-3IXxjC-S8",
        "outputId": "36dea11a-5d87-4e81-905f-114c4ec86c85"
      },
      "execution_count": 114,
      "outputs": [
        {
          "output_type": "execute_result",
          "data": {
            "text/plain": [
              "39.247126436781606"
            ]
          },
          "metadata": {},
          "execution_count": 114
        }
      ]
    },
    {
      "cell_type": "code",
      "source": [
        "# Completamos los valores faltantes de la columna \"Age\" con el promedio.\n",
        "test[\"Age\"] = test[\"Age\"].fillna(mean)"
      ],
      "metadata": {
        "id": "DNvinGv8DmCe"
      },
      "execution_count": 115,
      "outputs": []
    },
    {
      "cell_type": "code",
      "source": [
        "# Mostramos que no hay valores nulos para la columna \"Age\".\n",
        "test.isna().sum()"
      ],
      "metadata": {
        "colab": {
          "base_uri": "https://localhost:8080/"
        },
        "id": "2uc1vqkcDyId",
        "outputId": "65773804-0d1e-49c4-825a-61fcfc5ed86b"
      },
      "execution_count": 116,
      "outputs": [
        {
          "output_type": "execute_result",
          "data": {
            "text/plain": [
              "PassengerId      0\n",
              "Pclass           0\n",
              "Name             0\n",
              "Sex              0\n",
              "Age              0\n",
              "SibSp            0\n",
              "Parch            0\n",
              "Ticket           0\n",
              "Fare             1\n",
              "Cabin          327\n",
              "Embarked         0\n",
              "dtype: int64"
            ]
          },
          "metadata": {},
          "execution_count": 116
        }
      ]
    },
    {
      "cell_type": "code",
      "source": [
        "# Tomamos la estrategia de poner Unknown a los valores nulos de \"Cabin\" debido a que tiene una gran cantidad de faltantes.\n",
        "test['Cabin'].fillna('Unknown', inplace=True)"
      ],
      "metadata": {
        "id": "CsCfbmq0D698"
      },
      "execution_count": 117,
      "outputs": []
    },
    {
      "cell_type": "code",
      "source": [
        "# Mostramos que no hay valores nulos para la columna \"Cabin\".\n",
        "test.isna().sum()"
      ],
      "metadata": {
        "colab": {
          "base_uri": "https://localhost:8080/"
        },
        "id": "aQhVgLqOFHcc",
        "outputId": "95f36bb1-ccc4-401c-f8fa-945e723da699"
      },
      "execution_count": 118,
      "outputs": [
        {
          "output_type": "execute_result",
          "data": {
            "text/plain": [
              "PassengerId    0\n",
              "Pclass         0\n",
              "Name           0\n",
              "Sex            0\n",
              "Age            0\n",
              "SibSp          0\n",
              "Parch          0\n",
              "Ticket         0\n",
              "Fare           1\n",
              "Cabin          0\n",
              "Embarked       0\n",
              "dtype: int64"
            ]
          },
          "metadata": {},
          "execution_count": 118
        }
      ]
    },
    {
      "cell_type": "code",
      "source": [
        "# Ahora imputamos sobre la columna \"Fare\"\n",
        "# Calculamos el promedio de la columna \"Fare\".\n",
        "test2 = test.dropna()\n",
        "mean = test2[\"Fare\"].mean()\n",
        "mean"
      ],
      "metadata": {
        "colab": {
          "base_uri": "https://localhost:8080/"
        },
        "id": "HgvMtUXpK-1d",
        "outputId": "c9dcdc67-85b3-493a-9641-44f8ed45d3e7"
      },
      "execution_count": 119,
      "outputs": [
        {
          "output_type": "execute_result",
          "data": {
            "text/plain": [
              "35.627188489208635"
            ]
          },
          "metadata": {},
          "execution_count": 119
        }
      ]
    },
    {
      "cell_type": "code",
      "source": [
        "# Completamos los valores faltantes de la columna \"Fare\" con el promedio.\n",
        "test[\"Fare\"] = test[\"Fare\"].fillna(mean)"
      ],
      "metadata": {
        "id": "wfYqWqDhLQ7V"
      },
      "execution_count": 120,
      "outputs": []
    },
    {
      "cell_type": "code",
      "source": [
        "# Mostramos que no hay valores nulos.\n",
        "test.isna().sum()"
      ],
      "metadata": {
        "colab": {
          "base_uri": "https://localhost:8080/"
        },
        "id": "0jtwP0XCLkBW",
        "outputId": "cf2f9ad8-2965-41ef-9fac-f99835d5a672"
      },
      "execution_count": 121,
      "outputs": [
        {
          "output_type": "execute_result",
          "data": {
            "text/plain": [
              "PassengerId    0\n",
              "Pclass         0\n",
              "Name           0\n",
              "Sex            0\n",
              "Age            0\n",
              "SibSp          0\n",
              "Parch          0\n",
              "Ticket         0\n",
              "Fare           0\n",
              "Cabin          0\n",
              "Embarked       0\n",
              "dtype: int64"
            ]
          },
          "metadata": {},
          "execution_count": 121
        }
      ]
    },
    {
      "cell_type": "markdown",
      "source": [
        "Para la base de datos test, la columna \"Embarked\" no tiene valores nulos.\n",
        "\n",
        "\n",
        "---\n",
        "\n"
      ],
      "metadata": {
        "id": "R4Jp8PK9Edt0"
      }
    },
    {
      "cell_type": "code",
      "source": [
        "# Mostramos la cantidad de filas y columnas respectivamente tiene la base de datos train.\n",
        "train.shape\n"
      ],
      "metadata": {
        "colab": {
          "base_uri": "https://localhost:8080/"
        },
        "id": "GRDVpW3ZFSpF",
        "outputId": "8218a0dd-fe25-4d2e-88f4-dee5da2e44cf"
      },
      "execution_count": 122,
      "outputs": [
        {
          "output_type": "execute_result",
          "data": {
            "text/plain": [
              "(891, 12)"
            ]
          },
          "metadata": {},
          "execution_count": 122
        }
      ]
    },
    {
      "cell_type": "code",
      "source": [
        "# Mostramos la cantidad de filas y columnas respectivamente tiene la base de datos test.\n",
        "test.shape"
      ],
      "metadata": {
        "colab": {
          "base_uri": "https://localhost:8080/"
        },
        "id": "uau8tAySAKl9",
        "outputId": "bf80802e-9714-4619-be5f-ac9c8eccaa3f"
      },
      "execution_count": 123,
      "outputs": [
        {
          "output_type": "execute_result",
          "data": {
            "text/plain": [
              "(418, 11)"
            ]
          },
          "metadata": {},
          "execution_count": 123
        }
      ]
    },
    {
      "cell_type": "code",
      "source": [
        "# c) Ajustar el primer modelo de regresión logística.\n",
        "\n",
        "# Definimos las características (X) y la variable objetivo (y) para el conjunto de entrenamiento.\n",
        "feature_cols = [\"Age\", \"Fare\", \"Pclass\", \"Sex\", \"Embarked\", \"SibSp\", \"Parch\"]\n",
        "x = train[feature_cols]\n",
        "y = train.Survived\n",
        "\n",
        "# Dividimos en entrenamiento y validación.\n",
        "X_train, X_test, y_train, y_test = train_test_split(x,y,test_size=0.20, random_state=0)\n",
        "\n",
        "# Aseguramos que todas las categorías estén presentes en ambos conjuntos de datos antes de la codificación one-hot.\n",
        "# Lista de columnas a codificar one-hot.\n",
        "columnas_categoricas = [\"Age\", \"Fare\", \"Pclass\", \"Sex\", \"Embarked\", \"SibSp\", \"Parch\"]\n",
        "\n",
        "# Aplicar la codificación one-hot en múltiples columnas.\n",
        "X_train_encoded = pd.get_dummies(X_train, columns=columnas_categoricas)\n",
        "X_test_encoded = pd.get_dummies(X_test, columns=columnas_categoricas)\n",
        "\n",
        "# Aseguramos que las columnas en X_test coincidan con las columnas en X_train después de la codificación one-hot.\n",
        "X_test_encoded = X_test_encoded.reindex(columns=X_train_encoded.columns, fill_value=0)\n",
        "\n",
        "logreg = LogisticRegression()\n",
        "logreg.fit(X_train_encoded, y_train)\n",
        "y_pred = logreg.predict(X_test_encoded)\n"
      ],
      "metadata": {
        "id": "ZHpB9YRaumvD"
      },
      "execution_count": 124,
      "outputs": []
    },
    {
      "cell_type": "code",
      "source": [
        "# Revisamos qué valores nos entrega la variable de salida predicha en test.\n",
        "y_pred"
      ],
      "metadata": {
        "colab": {
          "base_uri": "https://localhost:8080/"
        },
        "id": "LfUGoiXf0b4o",
        "outputId": "51f10300-69b9-4738-bb30-aaef9d08c8f9"
      },
      "execution_count": 125,
      "outputs": [
        {
          "output_type": "execute_result",
          "data": {
            "text/plain": [
              "array([0, 0, 0, 1, 1, 0, 1, 1, 0, 1, 0, 1, 0, 1, 1, 1, 0, 1, 0, 0, 0, 1,\n",
              "       0, 0, 1, 1, 0, 1, 1, 0, 0, 1, 0, 0, 0, 1, 0, 0, 0, 0, 0, 0, 0, 0,\n",
              "       1, 0, 0, 1, 0, 1, 0, 0, 1, 0, 0, 0, 0, 0, 0, 0, 0, 0, 1, 0, 1, 0,\n",
              "       1, 0, 1, 1, 1, 0, 0, 0, 0, 0, 0, 0, 0, 0, 0, 0, 1, 0, 0, 1, 1, 1,\n",
              "       1, 0, 0, 0, 1, 1, 0, 0, 1, 0, 0, 1, 0, 0, 0, 0, 1, 1, 1, 0, 0, 1,\n",
              "       0, 1, 0, 1, 1, 1, 1, 1, 0, 1, 0, 0, 0, 0, 0, 0, 0, 0, 0, 0, 1, 0,\n",
              "       0, 0, 0, 0, 0, 1, 0, 0, 0, 1, 0, 1, 1, 1, 0, 1, 1, 0, 0, 1, 0, 0,\n",
              "       1, 0, 0, 0, 1, 1, 0, 0, 1, 0, 0, 0, 0, 0, 0, 0, 0, 1, 0, 0, 1, 0,\n",
              "       1, 0, 0])"
            ]
          },
          "metadata": {},
          "execution_count": 125
        }
      ]
    },
    {
      "cell_type": "code",
      "source": [
        "# d) Entrenamos y determinamos el nivel de accuracy del primer modelo.\n",
        "\n",
        "# Graficamos la predicción con una matriz de confusión.\n",
        "cnf_matrix = metrics.confusion_matrix(y_test, y_pred)\n",
        "\n",
        "class_names = [0,1]\n",
        "fig,ax = plt.subplots()\n",
        "ticks_marks = np.arange(len(class_names))\n",
        "plt.xticks(ticks_marks, class_names)\n",
        "plt.yticks(ticks_marks, class_names)\n",
        "\n",
        "sns.heatmap(pd.DataFrame(cnf_matrix), annot = True, cmap= \"Blues_r\", fmt=\"g\")\n",
        "plt.tight_layout()\n",
        "plt.title(\"Matriz de confusión\", y = 1.1)\n",
        "plt.ylabel(\"Etiqueta actual\")\n",
        "plt.xlabel(\"Etiqueta de predicción\")"
      ],
      "metadata": {
        "colab": {
          "base_uri": "https://localhost:8080/",
          "height": 589
        },
        "id": "-7J8ZI5F0uH9",
        "outputId": "b307eaa0-aa05-482e-816f-36975631d7d4"
      },
      "execution_count": 126,
      "outputs": [
        {
          "output_type": "execute_result",
          "data": {
            "text/plain": [
              "Text(0.5, 23.52222222222222, 'Etiqueta de predicción')"
            ]
          },
          "metadata": {},
          "execution_count": 126
        },
        {
          "output_type": "display_data",
          "data": {
            "text/plain": [
              "<Figure size 640x480 with 2 Axes>"
            ],
            "image/png": "[encoded data removed]"
          },
          "metadata": {}
        }
      ]
    },
    {
      "cell_type": "code",
      "source": [
        "# Determinamos el nivel de Accuracy.\n",
        "print(\"Accuracy\", metrics.accuracy_score(y_test, y_pred))"
      ],
      "metadata": {
        "colab": {
          "base_uri": "https://localhost:8080/"
        },
        "id": "1g7Zg5dt4kAo",
        "outputId": "972de150-99c6-4694-abea-3c0f32f916f7"
      },
      "execution_count": 127,
      "outputs": [
        {
          "output_type": "stream",
          "name": "stdout",
          "text": [
            "Accuracy 0.8324022346368715\n"
          ]
        }
      ]
    },
    {
      "cell_type": "markdown",
      "source": [
        "Tenemos un 83% de elementos clasificados correctamente."
      ],
      "metadata": {
        "id": "2hnL2d9O6OwW"
      }
    }
  ]
}